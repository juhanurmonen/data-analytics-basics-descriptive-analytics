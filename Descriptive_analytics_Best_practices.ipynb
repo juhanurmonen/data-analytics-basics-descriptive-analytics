{
 "cells": [
  {
   "cell_type": "markdown",
   "id": "52304cc2",
   "metadata": {},
   "source": [
    "# Descriptive Analytics - Best Practices"
   ]
  },
  {
   "cell_type": "markdown",
   "id": "7fe76ac6",
   "metadata": {},
   "source": [
    "In this article it is assumed that the content of the notebook \n",
    "https://nbviewer.org/github/juhanurmonen/data-analytics-basics-prepare-data/blob/main/Python_pandas_introduction.ipynb is familiar to the reader."
   ]
  },
  {
   "cell_type": "markdown",
   "id": "e48a331c",
   "metadata": {},
   "source": [
    "In this note, the following functions are used for calculation."
   ]
  },
  {
   "cell_type": "markdown",
   "id": "8c676499",
   "metadata": {},
   "source": [
    "- __crosstab__ calculation of the frequency table\n",
    "- __cut__ classification of a quantitative variable\n",
    "- __count__ calculation of the number of occurencies\n",
    "- __sum__ calculation of the sum of values\n",
    "- __mean__ calculation of the average of values\n",
    "- __describe__ calculation of statistical key figures"
   ]
  },
  {
   "cell_type": "markdown",
   "id": "9d31b7e5",
   "metadata": {},
   "source": [
    "This notebook uses the following functions to create graphs."
   ]
  },
  {
   "cell_type": "markdown",
   "id": "a43b31b9",
   "metadata": {},
   "source": [
    "- __plot.bar__ vertical bar chart\n",
    "- __barplot__ bar chart from the seaborn library, which by default shows the averages, but other functions can also be used instead of the average (for example, sum)\n",
    "- __countplot__ seaborn library bar chart showing numbers\n",
    "- __histplot__ seaborn library histogram showing a classified distribution\n",
    "- __boxplot__ chart of the seaborn library summarizing statistical key figures\n",
    "- __subplots__ creating a chart consisting of multiple charts"
   ]
  },
  {
   "cell_type": "markdown",
   "id": "b13a97bb",
   "metadata": {},
   "source": [
    "The notebook uses formatted character strings (f-string). The f-string starts with the letter f followed by a string. Within a string, values of Python variables and formulas can be used inside curly brackets; for example $$\\textrm{f'Reduced price {0.90*price}'}.$$ If you refer to the data variable inside the f-string, then quotation marks are used around the variable instead of apostrophes, for example $$\\textrm{f'count (n = {df[\"age\"].count()})'}.$$"
   ]
  },
  {
   "cell_type": "markdown",
   "id": "3d11af06",
   "metadata": {},
   "source": [
    "## Preparations"
   ]
  },
  {
   "cell_type": "code",
   "execution_count": 1,
   "id": "1c29aef6",
   "metadata": {},
   "outputs": [
    {
     "name": "stderr",
     "output_type": "stream",
     "text": [
      "C:\\Users\\nurju\\AppData\\Local\\Temp\\ipykernel_12028\\3111280546.py:8: MatplotlibDeprecationWarning: The seaborn styles shipped by Matplotlib are deprecated since 3.6, as they no longer correspond to the styles shipped by seaborn. However, they will remain available as 'seaborn-v0_8-<style>'. Alternatively, directly use the seaborn API instead.\n",
      "  plt.style.use('seaborn-whitegrid')\n"
     ]
    }
   ],
   "source": [
    "### Import the pandas library\n",
    "\n",
    "import pandas as pd\n",
    "\n",
    "# Preparations for graphics\n",
    "import matplotlib.pyplot as plt\n",
    "import seaborn as sns\n",
    "plt.style.use('seaborn-whitegrid')\n",
    "\n",
    "# Preparations for formatting the percentage axis of charts\n",
    "from matplotlib.ticker import PercentFormatter\n",
    "ticks = PercentFormatter(xmax=100, decimals=0, symbol=' %')\n",
    "\n",
    "# Dictionary for formatting tables\n",
    "# Zero decimal places for the f-column, one decimal for the %-column\n",
    "format = {'f':'{:.0f}', '%':'{:.1f} %'}"
   ]
  },
  {
   "cell_type": "code",
   "execution_count": 2,
   "id": "e2dfe085",
   "metadata": {},
   "outputs": [],
   "source": [
    "### Read the data\n",
    "\n",
    "df = pd.read_excel('https://myy.haaga-helia.fi/~menetelmat/Data-analytiikka/Teaching/data1_en.xlsx')\n",
    "\n",
    "### Textual values of variables as lists\n",
    "\n",
    "gender = ['man', 'woman']\n",
    "education = ['comprehensive\\n school', 'secondary\\n school', 'university degree', 'master degree']\n",
    "satisfaction = ['very unsatisfied', 'unsatisfied', 'no opinion', \n",
    "                'satisfied', 'very satisfied']"
   ]
  },
  {
   "cell_type": "markdown",
   "id": "fed6c41d",
   "metadata": {},
   "source": [
    "## Frequency table for a categorical variable"
   ]
  },
  {
   "cell_type": "code",
   "execution_count": 3,
   "id": "fe407166",
   "metadata": {},
   "outputs": [
    {
     "data": {
      "text/html": [
       "<style type=\"text/css\">\n",
       "</style>\n",
       "<table id=\"T_bd0dc\">\n",
       "  <thead>\n",
       "    <tr>\n",
       "      <th class=\"index_name level0\" ></th>\n",
       "      <th id=\"T_bd0dc_level0_col0\" class=\"col_heading level0 col0\" >f</th>\n",
       "      <th id=\"T_bd0dc_level0_col1\" class=\"col_heading level0 col1\" >%</th>\n",
       "    </tr>\n",
       "  </thead>\n",
       "  <tbody>\n",
       "    <tr>\n",
       "      <th id=\"T_bd0dc_level0_row0\" class=\"row_heading level0 row0\" >comprehensive\n",
       " school</th>\n",
       "      <td id=\"T_bd0dc_row0_col0\" class=\"data row0 col0\" >27</td>\n",
       "      <td id=\"T_bd0dc_row0_col1\" class=\"data row0 col1\" >33.3 %</td>\n",
       "    </tr>\n",
       "    <tr>\n",
       "      <th id=\"T_bd0dc_level0_row1\" class=\"row_heading level0 row1\" >secondary\n",
       " school</th>\n",
       "      <td id=\"T_bd0dc_row1_col0\" class=\"data row1 col0\" >30</td>\n",
       "      <td id=\"T_bd0dc_row1_col1\" class=\"data row1 col1\" >37.0 %</td>\n",
       "    </tr>\n",
       "    <tr>\n",
       "      <th id=\"T_bd0dc_level0_row2\" class=\"row_heading level0 row2\" >university degree</th>\n",
       "      <td id=\"T_bd0dc_row2_col0\" class=\"data row2 col0\" >22</td>\n",
       "      <td id=\"T_bd0dc_row2_col1\" class=\"data row2 col1\" >27.2 %</td>\n",
       "    </tr>\n",
       "    <tr>\n",
       "      <th id=\"T_bd0dc_level0_row3\" class=\"row_heading level0 row3\" >master degree</th>\n",
       "      <td id=\"T_bd0dc_row3_col0\" class=\"data row3 col0\" >2</td>\n",
       "      <td id=\"T_bd0dc_row3_col1\" class=\"data row3 col1\" >2.5 %</td>\n",
       "    </tr>\n",
       "  </tbody>\n",
       "</table>\n"
      ],
      "text/plain": [
       "<pandas.io.formats.style.Styler at 0x1c54ddff9d0>"
      ]
     },
     "execution_count": 3,
     "metadata": {},
     "output_type": "execute_result"
    }
   ],
   "source": [
    "df1 = pd.crosstab(df['education'], 'f')\n",
    "\n",
    "df1.columns.name = ''\n",
    "df1.index = education\n",
    "df1['%'] = df1['f']/df1['f'].sum()*100\n",
    "\n",
    "# Displaying formatted table\n",
    "df1.style.format(format)"
   ]
  },
  {
   "cell_type": "markdown",
   "id": "960c3889",
   "metadata": {},
   "source": [
    "## Graphical representation of frequencies"
   ]
  },
  {
   "cell_type": "code",
   "execution_count": 4,
   "id": "0ae013dc",
   "metadata": {},
   "outputs": [
    {
     "data": {
      "image/png": "[encoded data removed]",
      "text/plain": [
       "<Figure size 640x480 with 1 Axes>"
      ]
     },
     "metadata": {},
     "output_type": "display_data"
    }
   ],
   "source": [
    "### Vertical bar chart of frequencies in the frequency table\n",
    "df1['f'].plot.bar(width=0.8, rot=0)\n",
    "\n",
    "### Title for the axis y\n",
    "plt.ylabel(f'number of responses (n = {df1[\"f\"].sum()})')\n",
    "\n",
    "### Repeal the vertical gridline included in the seaborn-whitegrid style\n",
    "\n",
    "plt.grid(axis='x')"
   ]
  },
  {
   "cell_type": "markdown",
   "id": "329a9627",
   "metadata": {},
   "source": [
    "## Graphical representation of percentages of frequencies"
   ]
  },
  {
   "cell_type": "code",
   "execution_count": 5,
   "id": "edf3c2b0",
   "metadata": {},
   "outputs": [
    {
     "data": {
      "image/png": "[encoded data removed]",
      "text/plain": [
       "<Figure size 640x480 with 1 Axes>"
      ]
     },
     "metadata": {},
     "output_type": "display_data"
    }
   ],
   "source": [
    "### Chart of percentages in the frequency table\n",
    "\n",
    "df1['%'].plot.bar(width=0.8, rot=0)\n",
    "\n",
    "### Formats in the axis y\n",
    "plt.ylabel(f'percentages (n = {df1[\"f\"].sum()})')\n",
    "\n",
    "### Formatting the axis y numbers as percentages\n",
    "### gca () (get current axis) refers to the graph generated\n",
    "\n",
    "plt.gca().yaxis.set_major_formatter(ticks)\n",
    "\n",
    "### Repeal the vertical gridline included in the seaborn-whitegrid style\n",
    "\n",
    "plt.grid(axis='x')"
   ]
  },
  {
   "cell_type": "markdown",
   "id": "605e5663",
   "metadata": {},
   "source": [
    "## Frequencies for dichotomic (dummy) variables"
   ]
  },
  {
   "cell_type": "markdown",
   "id": "37370568",
   "metadata": {},
   "source": [
    "The data variables occu_health, timeshare, gym and massage are dichotomous (have you used that benefit?). Value one means the benefit has been used and the sum of the ones gives the number of users."
   ]
  },
  {
   "cell_type": "code",
   "execution_count": 6,
   "id": "c5002c7a",
   "metadata": {},
   "outputs": [
    {
     "data": {
      "text/plain": [
       "82"
      ]
     },
     "execution_count": 6,
     "metadata": {},
     "output_type": "execute_result"
    }
   ],
   "source": [
    "## By the way, notice that\n",
    "\n",
    "df.shape[0]"
   ]
  },
  {
   "cell_type": "code",
   "execution_count": 7,
   "id": "86804926",
   "metadata": {},
   "outputs": [
    {
     "data": {
      "text/html": [
       "<style type=\"text/css\">\n",
       "</style>\n",
       "<table id=\"T_0a65c\">\n",
       "  <thead>\n",
       "    <tr>\n",
       "      <th class=\"blank level0\" >&nbsp;</th>\n",
       "      <th id=\"T_0a65c_level0_col0\" class=\"col_heading level0 col0\" >f</th>\n",
       "      <th id=\"T_0a65c_level0_col1\" class=\"col_heading level0 col1\" >%</th>\n",
       "    </tr>\n",
       "  </thead>\n",
       "  <tbody>\n",
       "    <tr>\n",
       "      <th id=\"T_0a65c_level0_row0\" class=\"row_heading level0 row0\" >occu_health</th>\n",
       "      <td id=\"T_0a65c_row0_col0\" class=\"data row0 col0\" >47</td>\n",
       "      <td id=\"T_0a65c_row0_col1\" class=\"data row0 col1\" >57.3 %</td>\n",
       "    </tr>\n",
       "    <tr>\n",
       "      <th id=\"T_0a65c_level0_row1\" class=\"row_heading level0 row1\" >massage</th>\n",
       "      <td id=\"T_0a65c_row1_col0\" class=\"data row1 col0\" >22</td>\n",
       "      <td id=\"T_0a65c_row1_col1\" class=\"data row1 col1\" >26.8 %</td>\n",
       "    </tr>\n",
       "    <tr>\n",
       "      <th id=\"T_0a65c_level0_row2\" class=\"row_heading level0 row2\" >timeshare</th>\n",
       "      <td id=\"T_0a65c_row2_col0\" class=\"data row2 col0\" >20</td>\n",
       "      <td id=\"T_0a65c_row2_col1\" class=\"data row2 col1\" >24.4 %</td>\n",
       "    </tr>\n",
       "    <tr>\n",
       "      <th id=\"T_0a65c_level0_row3\" class=\"row_heading level0 row3\" >gym</th>\n",
       "      <td id=\"T_0a65c_row3_col0\" class=\"data row3 col0\" >9</td>\n",
       "      <td id=\"T_0a65c_row3_col1\" class=\"data row3 col1\" >11.0 %</td>\n",
       "    </tr>\n",
       "  </tbody>\n",
       "</table>\n"
      ],
      "text/plain": [
       "<pandas.io.formats.style.Styler at 0x1c54e87b8b0>"
      ]
     },
     "execution_count": 7,
     "metadata": {},
     "output_type": "execute_result"
    }
   ],
   "source": [
    "dichotomy = ['occu_health', 'timeshare', 'gym', 'massage']\n",
    "\n",
    "### We add sums to the dataframe and then arrange by the sum\n",
    "\n",
    "df2 = df[dichotomy].sum().to_frame('f').sort_values('f', ascending=False)\n",
    "\n",
    "### Percentages are calculated from the number of respondents (number of rows of data)\n",
    "\n",
    "df2['%'] = df2['f']/df.shape[0]*100\n",
    "\n",
    "### Finally some housekeeping\n",
    "\n",
    "df2.style.format(format)"
   ]
  },
  {
   "cell_type": "code",
   "execution_count": 8,
   "id": "d8517a6b",
   "metadata": {},
   "outputs": [
    {
     "data": {
      "text/plain": [
       "Text(0, 0.5, 'Number of users')"
      ]
     },
     "execution_count": 8,
     "metadata": {},
     "output_type": "execute_result"
    },
    {
     "data": {
      "image/png": "[encoded data removed]",
      "text/plain": [
       "<Figure size 640x480 with 1 Axes>"
      ]
     },
     "metadata": {},
     "output_type": "display_data"
    }
   ],
   "source": [
    "### Empty values have sometimes caused problems. So, we define.\n",
    "\n",
    "df0 = df.fillna(0)\n",
    "\n",
    "### Create a list of variables in order of frequency\n",
    "\n",
    "list = df0[dichotomy].sum().sort_values(ascending=False).index\n",
    "\n",
    "### Seaborn charts are made directly from the original data, so the table of the previous cell is not needed\n",
    "\n",
    "sns.barplot(data=df0[list], estimator=sum)\n",
    "\n",
    "### The axis y label\n",
    "\n",
    "plt.ylabel('Number of users')"
   ]
  },
  {
   "cell_type": "markdown",
   "id": "48dcc6a6",
   "metadata": {},
   "source": [
    "## Missing values"
   ]
  },
  {
   "cell_type": "markdown",
   "id": "45068b2a",
   "metadata": {},
   "source": [
    "The variable colleagues (satisfaction with co-workers) was measured on a 5-point scale (1=very unsatisfied, 5=very satisfied). One person didn't answer to this question. No missing values are allowed for an integer type variable (int), so this variable is floating-point type (float) unlike other satisfaction variables. This usually does not cause any problems from the point of view of analysis and in no way needs to be taken into account separately."
   ]
  },
  {
   "cell_type": "markdown",
   "id": "7dd7028b",
   "metadata": {},
   "source": [
    "The problem that requires attention is that no one was extremely unsatisfied with their co-workers meaning answer option one has not been chosen by anyone. It is also missing from the frequency table. However, it would be good to show that option in the frequency table."
   ]
  },
  {
   "cell_type": "markdown",
   "id": "6179296c",
   "metadata": {},
   "source": [
    "This can be done by changing the type of the variable to __category__."
   ]
  },
  {
   "cell_type": "code",
   "execution_count": 9,
   "id": "bde8c6de",
   "metadata": {},
   "outputs": [
    {
     "data": {
      "text/html": [
       "<style type=\"text/css\">\n",
       "</style>\n",
       "<table id=\"T_4c7d6\">\n",
       "  <thead>\n",
       "    <tr>\n",
       "      <th class=\"index_name level0\" ></th>\n",
       "      <th id=\"T_4c7d6_level0_col0\" class=\"col_heading level0 col0\" >f</th>\n",
       "      <th id=\"T_4c7d6_level0_col1\" class=\"col_heading level0 col1\" >%</th>\n",
       "    </tr>\n",
       "    <tr>\n",
       "      <th class=\"index_name level0\" >colleagues</th>\n",
       "      <th class=\"blank col0\" >&nbsp;</th>\n",
       "      <th class=\"blank col1\" >&nbsp;</th>\n",
       "    </tr>\n",
       "  </thead>\n",
       "  <tbody>\n",
       "    <tr>\n",
       "      <th id=\"T_4c7d6_level0_row0\" class=\"row_heading level0 row0\" >2.000000</th>\n",
       "      <td id=\"T_4c7d6_row0_col0\" class=\"data row0 col0\" >3</td>\n",
       "      <td id=\"T_4c7d6_row0_col1\" class=\"data row0 col1\" >3.7 %</td>\n",
       "    </tr>\n",
       "    <tr>\n",
       "      <th id=\"T_4c7d6_level0_row1\" class=\"row_heading level0 row1\" >3.000000</th>\n",
       "      <td id=\"T_4c7d6_row1_col0\" class=\"data row1 col0\" >16</td>\n",
       "      <td id=\"T_4c7d6_row1_col1\" class=\"data row1 col1\" >19.8 %</td>\n",
       "    </tr>\n",
       "    <tr>\n",
       "      <th id=\"T_4c7d6_level0_row2\" class=\"row_heading level0 row2\" >4.000000</th>\n",
       "      <td id=\"T_4c7d6_row2_col0\" class=\"data row2 col0\" >35</td>\n",
       "      <td id=\"T_4c7d6_row2_col1\" class=\"data row2 col1\" >43.2 %</td>\n",
       "    </tr>\n",
       "    <tr>\n",
       "      <th id=\"T_4c7d6_level0_row3\" class=\"row_heading level0 row3\" >5.000000</th>\n",
       "      <td id=\"T_4c7d6_row3_col0\" class=\"data row3 col0\" >27</td>\n",
       "      <td id=\"T_4c7d6_row3_col1\" class=\"data row3 col1\" >33.3 %</td>\n",
       "    </tr>\n",
       "  </tbody>\n",
       "</table>\n"
      ],
      "text/plain": [
       "<pandas.io.formats.style.Styler at 0x1c54e8afdf0>"
      ]
     },
     "execution_count": 9,
     "metadata": {},
     "output_type": "execute_result"
    }
   ],
   "source": [
    "### The value 1.0 (very unsatisfied) is not shown here because no one chose it.\n",
    "\n",
    "df3 = pd.crosstab(df['colleagues'], 'f')\n",
    "\n",
    "### Housekeeping and percentages\n",
    "\n",
    "df3.columns.name = ''\n",
    "df3['%'] = df3['f']/df3['f'].sum()*100\n",
    "\n",
    "### Style formatting\n",
    "\n",
    "df3.style.format(format)"
   ]
  },
  {
   "cell_type": "code",
   "execution_count": 10,
   "id": "43a143dc",
   "metadata": {},
   "outputs": [],
   "source": [
    "### Let's make a new variable whose type is category.\n",
    "\n",
    "df['colleagues_cat'] = pd.Categorical(df['colleagues'], categories=[1, 2, 3, 4, 5], ordered=True)"
   ]
  },
  {
   "cell_type": "code",
   "execution_count": 11,
   "id": "7b08e8c0",
   "metadata": {},
   "outputs": [
    {
     "data": {
      "text/html": [
       "<style type=\"text/css\">\n",
       "</style>\n",
       "<table id=\"T_9a121\">\n",
       "  <thead>\n",
       "    <tr>\n",
       "      <th class=\"index_name level0\" ></th>\n",
       "      <th id=\"T_9a121_level0_col0\" class=\"col_heading level0 col0\" >f</th>\n",
       "      <th id=\"T_9a121_level0_col1\" class=\"col_heading level0 col1\" >%</th>\n",
       "    </tr>\n",
       "  </thead>\n",
       "  <tbody>\n",
       "    <tr>\n",
       "      <th id=\"T_9a121_level0_row0\" class=\"row_heading level0 row0\" >very unsatisfied</th>\n",
       "      <td id=\"T_9a121_row0_col0\" class=\"data row0 col0\" >0</td>\n",
       "      <td id=\"T_9a121_row0_col1\" class=\"data row0 col1\" >0.0 %</td>\n",
       "    </tr>\n",
       "    <tr>\n",
       "      <th id=\"T_9a121_level0_row1\" class=\"row_heading level0 row1\" >unsatisfied</th>\n",
       "      <td id=\"T_9a121_row1_col0\" class=\"data row1 col0\" >3</td>\n",
       "      <td id=\"T_9a121_row1_col1\" class=\"data row1 col1\" >3.7 %</td>\n",
       "    </tr>\n",
       "    <tr>\n",
       "      <th id=\"T_9a121_level0_row2\" class=\"row_heading level0 row2\" >no opinion</th>\n",
       "      <td id=\"T_9a121_row2_col0\" class=\"data row2 col0\" >16</td>\n",
       "      <td id=\"T_9a121_row2_col1\" class=\"data row2 col1\" >19.8 %</td>\n",
       "    </tr>\n",
       "    <tr>\n",
       "      <th id=\"T_9a121_level0_row3\" class=\"row_heading level0 row3\" >satisfied</th>\n",
       "      <td id=\"T_9a121_row3_col0\" class=\"data row3 col0\" >35</td>\n",
       "      <td id=\"T_9a121_row3_col1\" class=\"data row3 col1\" >43.2 %</td>\n",
       "    </tr>\n",
       "    <tr>\n",
       "      <th id=\"T_9a121_level0_row4\" class=\"row_heading level0 row4\" >very satisfied</th>\n",
       "      <td id=\"T_9a121_row4_col0\" class=\"data row4 col0\" >27</td>\n",
       "      <td id=\"T_9a121_row4_col1\" class=\"data row4 col1\" >33.3 %</td>\n",
       "    </tr>\n",
       "  </tbody>\n",
       "</table>\n"
      ],
      "text/plain": [
       "<pandas.io.formats.style.Styler at 0x1c54e92bf40>"
      ]
     },
     "execution_count": 11,
     "metadata": {},
     "output_type": "execute_result"
    }
   ],
   "source": [
    "### Beacause of the dropna parameter, 'very unsatisfied' is also included in the frequency table.\n",
    "\n",
    "df4 = pd.crosstab(df['colleagues_cat'], 'f', dropna=False)\n",
    "\n",
    "### Housekeeping and column for percentages\n",
    "\n",
    "df4.columns.name = ''\n",
    "df4.index = satisfaction\n",
    "df4['%'] = df4['f']/df4['f'].sum()*100\n",
    "\n",
    "### Formatting and displaying\n",
    "\n",
    "df4.style.format(format)"
   ]
  },
  {
   "cell_type": "code",
   "execution_count": 12,
   "id": "67499525",
   "metadata": {},
   "outputs": [
    {
     "data": {
      "image/png": "[encoded data removed]",
      "text/plain": [
       "<Figure size 640x480 with 1 Axes>"
      ]
     },
     "metadata": {},
     "output_type": "display_data"
    }
   ],
   "source": [
    "### Chart of percentages in the frequency table\n",
    "\n",
    "df4['%'].plot.bar(width=0.8, rot=45)\n",
    "\n",
    "### Housekeeping and formatting as above\n",
    "\n",
    "plt.ylabel(f'percentages (n = {df4[\"f\"].sum()})')\n",
    "plt.gca().yaxis.set_major_formatter(ticks)\n",
    "plt.grid(axis='x')"
   ]
  },
  {
   "cell_type": "markdown",
   "id": "b590de30",
   "metadata": {},
   "source": [
    "## Chart consisting of several charts"
   ]
  },
  {
   "cell_type": "markdown",
   "id": "3845c5f1",
   "metadata": {},
   "source": [
    "Using the __for__ loop, the distributions of several variables can be represented in a single figure that contains several charts."
   ]
  },
  {
   "cell_type": "markdown",
   "id": "2306c1e9",
   "metadata": {},
   "source": [
    "The command $$\\textrm{fig, axs = plt.subplots(nrows = 1, ncols = 5, sharey = True, figsize = (12, 3))}$$ creates a figure with five charts next to each other (ncols=5) and the charts share a common y-axis (sharey=True). The command returns both the figure (fig) and the list of charts it contains (axs)."
   ]
  },
  {
   "cell_type": "markdown",
   "id": "71f1e3da",
   "metadata": {},
   "source": [
    "The __Enumerate__ function returns both the sequence numbers of the variables in the satisfactions list and the names of the variables. Sequence numbers are needed to indicate in which chart each variable is placed (_ax=axs[i]_)."
   ]
  },
  {
   "cell_type": "markdown",
   "id": "4acec147",
   "metadata": {},
   "source": [
    "More information about color maps can be found at https://matplotlib.org/stable/tutorials/colors/colormaps.html (parameter palette)."
   ]
  },
  {
   "cell_type": "code",
   "execution_count": 13,
   "id": "c04af739",
   "metadata": {},
   "outputs": [
    {
     "data": {
      "text/plain": [
       "Text(0, 0.5, 'number of respondents')"
      ]
     },
     "execution_count": 13,
     "metadata": {},
     "output_type": "execute_result"
    },
    {
     "data": {
      "image/png": "[encoded data removed]",
      "text/plain": [
       "<Figure size 1200x300 with 5 Axes>"
      ]
     },
     "metadata": {},
     "output_type": "display_data"
    }
   ],
   "source": [
    "satisfactions = ['management', 'colleagues_cat', 'environment', 'salary_level', 'duties']\n",
    "\n",
    "### Create the figure with five charts.\n",
    "fig, axs = plt.subplots(nrows = 1, ncols = 5, sharey = True, figsize = (12, 3))\n",
    "\n",
    "### The for loop for charts\n",
    "\n",
    "for i, var in enumerate(satisfactions):\n",
    "    sns.countplot(x = var, data = df, ax = axs[i], palette = 'Blues')\n",
    "    axs[i].set_ylabel('')\n",
    "    \n",
    "### Title for the axis y of the first chart\n",
    "\n",
    "axs[0].set_ylabel('number of respondents')"
   ]
  },
  {
   "cell_type": "markdown",
   "id": "06f4cdbe",
   "metadata": {},
   "source": [
    "## Classified distribution"
   ]
  },
  {
   "cell_type": "markdown",
   "id": "30762e1c",
   "metadata": {},
   "source": [
    "A quantitative variable can be classified using the __cut__ function in the pandas library. By default, classes do not contain the lower limit of the class, but contain an upper limit."
   ]
  },
  {
   "cell_type": "markdown",
   "id": "dde93da0",
   "metadata": {},
   "source": [
    "The __histplot__ function produces a classification where the classes contain a lower limit but not an upper limit."
   ]
  },
  {
   "cell_type": "markdown",
   "id": "e1b66570",
   "metadata": {},
   "source": [
    "If one wants the classes generated by the cut function to be consistent with the histogram, the parameter _right=false_ can be used in connection with the cut function. Even after that, there may be a difference at the upper limit of the last class, which is included in the class in the histogram."
   ]
  },
  {
   "cell_type": "code",
   "execution_count": 14,
   "id": "b401440f",
   "metadata": {},
   "outputs": [
    {
     "data": {
      "text/html": [
       "<style type=\"text/css\">\n",
       "</style>\n",
       "<table id=\"T_27c42\">\n",
       "  <thead>\n",
       "    <tr>\n",
       "      <th class=\"index_name level0\" ></th>\n",
       "      <th id=\"T_27c42_level0_col0\" class=\"col_heading level0 col0\" >f</th>\n",
       "      <th id=\"T_27c42_level0_col1\" class=\"col_heading level0 col1\" >%</th>\n",
       "    </tr>\n",
       "    <tr>\n",
       "      <th class=\"index_name level0\" >age_group</th>\n",
       "      <th class=\"blank col0\" >&nbsp;</th>\n",
       "      <th class=\"blank col1\" >&nbsp;</th>\n",
       "    </tr>\n",
       "  </thead>\n",
       "  <tbody>\n",
       "    <tr>\n",
       "      <th id=\"T_27c42_level0_row0\" class=\"row_heading level0 row0\" >[19, 29)</th>\n",
       "      <td id=\"T_27c42_row0_col0\" class=\"data row0 col0\" >14</td>\n",
       "      <td id=\"T_27c42_row0_col1\" class=\"data row0 col1\" >17.1 %</td>\n",
       "    </tr>\n",
       "    <tr>\n",
       "      <th id=\"T_27c42_level0_row1\" class=\"row_heading level0 row1\" >[29, 39)</th>\n",
       "      <td id=\"T_27c42_row1_col0\" class=\"data row1 col0\" >30</td>\n",
       "      <td id=\"T_27c42_row1_col1\" class=\"data row1 col1\" >36.6 %</td>\n",
       "    </tr>\n",
       "    <tr>\n",
       "      <th id=\"T_27c42_level0_row2\" class=\"row_heading level0 row2\" >[39, 49)</th>\n",
       "      <td id=\"T_27c42_row2_col0\" class=\"data row2 col0\" >25</td>\n",
       "      <td id=\"T_27c42_row2_col1\" class=\"data row2 col1\" >30.5 %</td>\n",
       "    </tr>\n",
       "    <tr>\n",
       "      <th id=\"T_27c42_level0_row3\" class=\"row_heading level0 row3\" >[49, 59)</th>\n",
       "      <td id=\"T_27c42_row3_col0\" class=\"data row3 col0\" >11</td>\n",
       "      <td id=\"T_27c42_row3_col1\" class=\"data row3 col1\" >13.4 %</td>\n",
       "    </tr>\n",
       "    <tr>\n",
       "      <th id=\"T_27c42_level0_row4\" class=\"row_heading level0 row4\" >[59, 69)</th>\n",
       "      <td id=\"T_27c42_row4_col0\" class=\"data row4 col0\" >2</td>\n",
       "      <td id=\"T_27c42_row4_col1\" class=\"data row4 col1\" >2.4 %</td>\n",
       "    </tr>\n",
       "  </tbody>\n",
       "</table>\n"
      ],
      "text/plain": [
       "<pandas.io.formats.style.Styler at 0x1c54ea32f70>"
      ]
     },
     "execution_count": 14,
     "metadata": {},
     "output_type": "execute_result"
    }
   ],
   "source": [
    "age_groups = [19, 29, 39, 49, 59, 69]\n",
    "\n",
    "### Create the age groups\n",
    "\n",
    "df['age_group'] = pd.cut(df['age'], bins = age_groups, right = False)\n",
    "\n",
    "### Create the cross tabulation\n",
    "\n",
    "df5 = pd.crosstab(df['age_group'], 'f')\n",
    "\n",
    "### Housekeeping and percentages\n",
    "\n",
    "df5.columns.name = ''\n",
    "df5['%'] = df5['f']/df5['f'].sum()*100\n",
    "\n",
    "### Formatting\n",
    "\n",
    "df5.style.format(format)"
   ]
  },
  {
   "cell_type": "markdown",
   "id": "84b96fa1",
   "metadata": {},
   "source": [
    "Next, draw a histogram to illustrate the classified distribution."
   ]
  },
  {
   "cell_type": "code",
   "execution_count": 15,
   "id": "f7ad6cb4",
   "metadata": {},
   "outputs": [
    {
     "data": {
      "text/plain": [
       "([<matplotlib.axis.XTick at 0x1c54fd81760>,\n",
       "  <matplotlib.axis.XTick at 0x1c54fd81730>,\n",
       "  <matplotlib.axis.XTick at 0x1c54ff17f10>,\n",
       "  <matplotlib.axis.XTick at 0x1c54fdd9ee0>,\n",
       "  <matplotlib.axis.XTick at 0x1c54fdec9d0>,\n",
       "  <matplotlib.axis.XTick at 0x1c54fc2b190>],\n",
       " [Text(19, 0, '19'),\n",
       "  Text(29, 0, '29'),\n",
       "  Text(39, 0, '39'),\n",
       "  Text(49, 0, '49'),\n",
       "  Text(59, 0, '59'),\n",
       "  Text(69, 0, '69')])"
      ]
     },
     "execution_count": 15,
     "metadata": {},
     "output_type": "execute_result"
    },
    {
     "data": {
      "image/png": "[encoded data removed]",
      "text/plain": [
       "<Figure size 640x480 with 1 Axes>"
      ]
     },
     "metadata": {},
     "output_type": "display_data"
    }
   ],
   "source": [
    "### Histogram for illustrating classified distribution.\n",
    "\n",
    "sns.histplot(df['age'], bins = age_groups)\n",
    "\n",
    "### Add n values to the axis y\n",
    "\n",
    "plt.ylabel(f'number of employees (n = {df[\"age\"].count()})')\n",
    "\n",
    "### Add class limits to the horisontal axis\n",
    "plt.xticks(age_groups)"
   ]
  },
  {
   "cell_type": "markdown",
   "id": "9b2a0103",
   "metadata": {},
   "source": [
    "Next we add percentages to the histplot chart."
   ]
  },
  {
   "cell_type": "code",
   "execution_count": 16,
   "id": "ecca816d",
   "metadata": {},
   "outputs": [
    {
     "data": {
      "image/png": "[encoded data removed]",
      "text/plain": [
       "<Figure size 640x480 with 1 Axes>"
      ]
     },
     "metadata": {},
     "output_type": "display_data"
    }
   ],
   "source": [
    "### Add percentages to histplot chart\n",
    "\n",
    "sns.histplot(df['age'], stat = 'percent', bins = age_groups)\n",
    "\n",
    "### Tune the labels\n",
    "\n",
    "plt.xlabel('age')\n",
    "plt.ylabel(f'per cent (n = {df[\"age\"].count()})')\n",
    "\n",
    "plt.xticks(age_groups)\n",
    "plt.gca().yaxis.set_major_formatter(ticks)"
   ]
  },
  {
   "cell_type": "markdown",
   "id": "765b503f",
   "metadata": {},
   "source": [
    "## Statistical key figures"
   ]
  },
  {
   "cell_type": "markdown",
   "id": "c155df25",
   "metadata": {},
   "source": [
    "Statistical key figures can be calculated using the __describe__ function."
   ]
  },
  {
   "cell_type": "markdown",
   "id": "c0ec0072",
   "metadata": {},
   "source": [
    "Seaborn's __Boxplot__ is a good way to illustrate key figures (smallest, lower quartile, median, upper quartile, largest)."
   ]
  },
  {
   "cell_type": "markdown",
   "id": "714d77f0",
   "metadata": {},
   "source": [
    "Seaborn's __barplot__ is convenient for illustrating the average values of several variables, which by default presents the mean values as bars and also shows the error margins."
   ]
  },
  {
   "cell_type": "code",
   "execution_count": 17,
   "id": "5834c62d",
   "metadata": {},
   "outputs": [
    {
     "data": {
      "text/plain": [
       "count      82.000000\n",
       "mean     2563.878049\n",
       "std       849.350302\n",
       "min      1521.000000\n",
       "25%      2027.000000\n",
       "50%      2320.000000\n",
       "75%      2808.000000\n",
       "max      6278.000000\n",
       "Name: salary, dtype: float64"
      ]
     },
     "execution_count": 17,
     "metadata": {},
     "output_type": "execute_result"
    }
   ],
   "source": [
    "### Key figures for salary\n",
    "\n",
    "df['salary'].describe()"
   ]
  },
  {
   "cell_type": "code",
   "execution_count": 18,
   "id": "7f5d86a6",
   "metadata": {},
   "outputs": [
    {
     "data": {
      "text/plain": [
       "<Axes: xlabel='salary'>"
      ]
     },
     "execution_count": 18,
     "metadata": {},
     "output_type": "execute_result"
    },
    {
     "data": {
      "image/png": "[encoded data removed]",
      "text/plain": [
       "<Figure size 640x480 with 1 Axes>"
      ]
     },
     "metadata": {},
     "output_type": "display_data"
    }
   ],
   "source": [
    "### Boxplot for salary\n",
    "\n",
    "sns.boxplot(x='salary', data=df)"
   ]
  },
  {
   "cell_type": "code",
   "execution_count": 19,
   "id": "e3842077",
   "metadata": {},
   "outputs": [
    {
     "data": {
      "text/html": [
       "<div>\n",
       "<style scoped>\n",
       "    .dataframe tbody tr th:only-of-type {\n",
       "        vertical-align: middle;\n",
       "    }\n",
       "\n",
       "    .dataframe tbody tr th {\n",
       "        vertical-align: top;\n",
       "    }\n",
       "\n",
       "    .dataframe thead th {\n",
       "        text-align: right;\n",
       "    }\n",
       "</style>\n",
       "<table border=\"1\" class=\"dataframe\">\n",
       "  <thead>\n",
       "    <tr style=\"text-align: right;\">\n",
       "      <th></th>\n",
       "      <th>management</th>\n",
       "      <th>colleagues</th>\n",
       "      <th>environment</th>\n",
       "      <th>salary_level</th>\n",
       "      <th>duties</th>\n",
       "    </tr>\n",
       "  </thead>\n",
       "  <tbody>\n",
       "    <tr>\n",
       "      <th>count</th>\n",
       "      <td>82.000000</td>\n",
       "      <td>81.000000</td>\n",
       "      <td>82.000000</td>\n",
       "      <td>82.000000</td>\n",
       "      <td>82.000000</td>\n",
       "    </tr>\n",
       "    <tr>\n",
       "      <th>mean</th>\n",
       "      <td>3.060976</td>\n",
       "      <td>4.061728</td>\n",
       "      <td>3.219512</td>\n",
       "      <td>2.109756</td>\n",
       "      <td>3.195122</td>\n",
       "    </tr>\n",
       "    <tr>\n",
       "      <th>std</th>\n",
       "      <td>1.058155</td>\n",
       "      <td>0.826826</td>\n",
       "      <td>1.154961</td>\n",
       "      <td>1.111179</td>\n",
       "      <td>1.047502</td>\n",
       "    </tr>\n",
       "    <tr>\n",
       "      <th>min</th>\n",
       "      <td>1.000000</td>\n",
       "      <td>2.000000</td>\n",
       "      <td>1.000000</td>\n",
       "      <td>1.000000</td>\n",
       "      <td>1.000000</td>\n",
       "    </tr>\n",
       "    <tr>\n",
       "      <th>25%</th>\n",
       "      <td>2.000000</td>\n",
       "      <td>4.000000</td>\n",
       "      <td>3.000000</td>\n",
       "      <td>1.000000</td>\n",
       "      <td>3.000000</td>\n",
       "    </tr>\n",
       "    <tr>\n",
       "      <th>50%</th>\n",
       "      <td>3.000000</td>\n",
       "      <td>4.000000</td>\n",
       "      <td>3.000000</td>\n",
       "      <td>2.000000</td>\n",
       "      <td>3.000000</td>\n",
       "    </tr>\n",
       "    <tr>\n",
       "      <th>75%</th>\n",
       "      <td>4.000000</td>\n",
       "      <td>5.000000</td>\n",
       "      <td>4.000000</td>\n",
       "      <td>3.000000</td>\n",
       "      <td>4.000000</td>\n",
       "    </tr>\n",
       "    <tr>\n",
       "      <th>max</th>\n",
       "      <td>5.000000</td>\n",
       "      <td>5.000000</td>\n",
       "      <td>5.000000</td>\n",
       "      <td>5.000000</td>\n",
       "      <td>5.000000</td>\n",
       "    </tr>\n",
       "  </tbody>\n",
       "</table>\n",
       "</div>"
      ],
      "text/plain": [
       "       management  colleagues  environment  salary_level     duties\n",
       "count   82.000000   81.000000    82.000000     82.000000  82.000000\n",
       "mean     3.060976    4.061728     3.219512      2.109756   3.195122\n",
       "std      1.058155    0.826826     1.154961      1.111179   1.047502\n",
       "min      1.000000    2.000000     1.000000      1.000000   1.000000\n",
       "25%      2.000000    4.000000     3.000000      1.000000   3.000000\n",
       "50%      3.000000    4.000000     3.000000      2.000000   3.000000\n",
       "75%      4.000000    5.000000     4.000000      3.000000   4.000000\n",
       "max      5.000000    5.000000     5.000000      5.000000   5.000000"
      ]
     },
     "execution_count": 19,
     "metadata": {},
     "output_type": "execute_result"
    }
   ],
   "source": [
    "# Key figures for satisfactions\n",
    "df.loc[:, 'management':'duties'].describe()"
   ]
  },
  {
   "cell_type": "code",
   "execution_count": 20,
   "id": "d0ee3cac",
   "metadata": {},
   "outputs": [
    {
     "data": {
      "text/plain": [
       "Text(0.5, 0, 'satisfaction mean (5 = very satisfied)')"
      ]
     },
     "execution_count": 20,
     "metadata": {},
     "output_type": "execute_result"
    },
    {
     "data": {
      "image/png": "[encoded data removed]",
      "text/plain": [
       "<Figure size 640x480 with 1 Axes>"
      ]
     },
     "metadata": {},
     "output_type": "display_data"
    }
   ],
   "source": [
    "# List of satisfaction variables in order of mean\n",
    "list1 = df.loc[:,'management':'duties'].mean().sort_values().index\n",
    "\n",
    "# Bars and error margins describing mean values\n",
    "sns.barplot(data=df[list1], orient='h')\n",
    "\n",
    "# x-axis scaling (minimum value 1, maximum value 5)\n",
    "plt.xlim(1, 5)\n",
    "\n",
    "plt.xlabel('satisfaction mean (5 = very satisfied)')"
   ]
  },
  {
   "cell_type": "markdown",
   "id": "ec8c85cf",
   "metadata": {},
   "source": [
    "Let's open yet another data with mental images measured on a scale of 0 to 10."
   ]
  },
  {
   "cell_type": "code",
   "execution_count": 21,
   "id": "c7cbd0d6",
   "metadata": {},
   "outputs": [
    {
     "data": {
      "text/html": [
       "<div>\n",
       "<style scoped>\n",
       "    .dataframe tbody tr th:only-of-type {\n",
       "        vertical-align: middle;\n",
       "    }\n",
       "\n",
       "    .dataframe tbody tr th {\n",
       "        vertical-align: top;\n",
       "    }\n",
       "\n",
       "    .dataframe thead th {\n",
       "        text-align: right;\n",
       "    }\n",
       "</style>\n",
       "<table border=\"1\" class=\"dataframe\">\n",
       "  <thead>\n",
       "    <tr style=\"text-align: right;\">\n",
       "      <th></th>\n",
       "      <th>id</th>\n",
       "      <th>Delivery Speed</th>\n",
       "      <th>Price Level</th>\n",
       "      <th>Price Flexibility</th>\n",
       "      <th>Manufacturer Image</th>\n",
       "      <th>Service</th>\n",
       "      <th>Salesforce Image</th>\n",
       "      <th>Product Quality</th>\n",
       "      <th>Satisfaction Level</th>\n",
       "      <th>Firm size</th>\n",
       "      <th>Usage level %</th>\n",
       "      <th>Industry type</th>\n",
       "      <th>Buying situation</th>\n",
       "    </tr>\n",
       "  </thead>\n",
       "  <tbody>\n",
       "    <tr>\n",
       "      <th>0</th>\n",
       "      <td>1</td>\n",
       "      <td>4.1</td>\n",
       "      <td>0.6</td>\n",
       "      <td>6.9</td>\n",
       "      <td>4.7</td>\n",
       "      <td>2.4</td>\n",
       "      <td>2.3</td>\n",
       "      <td>5.2</td>\n",
       "      <td>4.2</td>\n",
       "      <td>0</td>\n",
       "      <td>32</td>\n",
       "      <td>1</td>\n",
       "      <td>1</td>\n",
       "    </tr>\n",
       "    <tr>\n",
       "      <th>1</th>\n",
       "      <td>2</td>\n",
       "      <td>1.8</td>\n",
       "      <td>3.0</td>\n",
       "      <td>6.3</td>\n",
       "      <td>6.6</td>\n",
       "      <td>2.5</td>\n",
       "      <td>4.0</td>\n",
       "      <td>8.4</td>\n",
       "      <td>4.3</td>\n",
       "      <td>1</td>\n",
       "      <td>43</td>\n",
       "      <td>0</td>\n",
       "      <td>1</td>\n",
       "    </tr>\n",
       "    <tr>\n",
       "      <th>2</th>\n",
       "      <td>3</td>\n",
       "      <td>3.4</td>\n",
       "      <td>5.2</td>\n",
       "      <td>5.7</td>\n",
       "      <td>6.0</td>\n",
       "      <td>4.3</td>\n",
       "      <td>2.7</td>\n",
       "      <td>8.2</td>\n",
       "      <td>5.2</td>\n",
       "      <td>1</td>\n",
       "      <td>48</td>\n",
       "      <td>1</td>\n",
       "      <td>2</td>\n",
       "    </tr>\n",
       "    <tr>\n",
       "      <th>3</th>\n",
       "      <td>4</td>\n",
       "      <td>2.7</td>\n",
       "      <td>1.0</td>\n",
       "      <td>7.1</td>\n",
       "      <td>5.9</td>\n",
       "      <td>1.8</td>\n",
       "      <td>2.3</td>\n",
       "      <td>7.8</td>\n",
       "      <td>3.9</td>\n",
       "      <td>1</td>\n",
       "      <td>32</td>\n",
       "      <td>1</td>\n",
       "      <td>1</td>\n",
       "    </tr>\n",
       "    <tr>\n",
       "      <th>4</th>\n",
       "      <td>5</td>\n",
       "      <td>6.0</td>\n",
       "      <td>0.9</td>\n",
       "      <td>9.6</td>\n",
       "      <td>7.8</td>\n",
       "      <td>3.4</td>\n",
       "      <td>4.6</td>\n",
       "      <td>4.5</td>\n",
       "      <td>6.8</td>\n",
       "      <td>0</td>\n",
       "      <td>58</td>\n",
       "      <td>1</td>\n",
       "      <td>3</td>\n",
       "    </tr>\n",
       "    <tr>\n",
       "      <th>...</th>\n",
       "      <td>...</td>\n",
       "      <td>...</td>\n",
       "      <td>...</td>\n",
       "      <td>...</td>\n",
       "      <td>...</td>\n",
       "      <td>...</td>\n",
       "      <td>...</td>\n",
       "      <td>...</td>\n",
       "      <td>...</td>\n",
       "      <td>...</td>\n",
       "      <td>...</td>\n",
       "      <td>...</td>\n",
       "      <td>...</td>\n",
       "    </tr>\n",
       "    <tr>\n",
       "      <th>95</th>\n",
       "      <td>96</td>\n",
       "      <td>0.6</td>\n",
       "      <td>1.6</td>\n",
       "      <td>6.4</td>\n",
       "      <td>5.0</td>\n",
       "      <td>0.7</td>\n",
       "      <td>2.1</td>\n",
       "      <td>8.4</td>\n",
       "      <td>3.4</td>\n",
       "      <td>1</td>\n",
       "      <td>25</td>\n",
       "      <td>1</td>\n",
       "      <td>1</td>\n",
       "    </tr>\n",
       "    <tr>\n",
       "      <th>96</th>\n",
       "      <td>97</td>\n",
       "      <td>6.1</td>\n",
       "      <td>0.5</td>\n",
       "      <td>9.2</td>\n",
       "      <td>4.8</td>\n",
       "      <td>3.3</td>\n",
       "      <td>2.8</td>\n",
       "      <td>7.1</td>\n",
       "      <td>5.2</td>\n",
       "      <td>0</td>\n",
       "      <td>60</td>\n",
       "      <td>1</td>\n",
       "      <td>3</td>\n",
       "    </tr>\n",
       "    <tr>\n",
       "      <th>97</th>\n",
       "      <td>98</td>\n",
       "      <td>2.0</td>\n",
       "      <td>2.8</td>\n",
       "      <td>5.2</td>\n",
       "      <td>5.0</td>\n",
       "      <td>2.4</td>\n",
       "      <td>2.7</td>\n",
       "      <td>8.4</td>\n",
       "      <td>3.7</td>\n",
       "      <td>1</td>\n",
       "      <td>38</td>\n",
       "      <td>0</td>\n",
       "      <td>1</td>\n",
       "    </tr>\n",
       "    <tr>\n",
       "      <th>98</th>\n",
       "      <td>99</td>\n",
       "      <td>3.1</td>\n",
       "      <td>2.2</td>\n",
       "      <td>6.7</td>\n",
       "      <td>6.8</td>\n",
       "      <td>2.6</td>\n",
       "      <td>2.9</td>\n",
       "      <td>8.4</td>\n",
       "      <td>4.3</td>\n",
       "      <td>1</td>\n",
       "      <td>42</td>\n",
       "      <td>0</td>\n",
       "      <td>1</td>\n",
       "    </tr>\n",
       "    <tr>\n",
       "      <th>99</th>\n",
       "      <td>100</td>\n",
       "      <td>2.5</td>\n",
       "      <td>1.8</td>\n",
       "      <td>9.0</td>\n",
       "      <td>5.0</td>\n",
       "      <td>2.2</td>\n",
       "      <td>3.0</td>\n",
       "      <td>6.0</td>\n",
       "      <td>4.4</td>\n",
       "      <td>0</td>\n",
       "      <td>33</td>\n",
       "      <td>0</td>\n",
       "      <td>1</td>\n",
       "    </tr>\n",
       "  </tbody>\n",
       "</table>\n",
       "<p>100 rows × 13 columns</p>\n",
       "</div>"
      ],
      "text/plain": [
       "     id  Delivery Speed  Price Level  Price Flexibility  Manufacturer Image  \\\n",
       "0     1             4.1          0.6                6.9                 4.7   \n",
       "1     2             1.8          3.0                6.3                 6.6   \n",
       "2     3             3.4          5.2                5.7                 6.0   \n",
       "3     4             2.7          1.0                7.1                 5.9   \n",
       "4     5             6.0          0.9                9.6                 7.8   \n",
       "..  ...             ...          ...                ...                 ...   \n",
       "95   96             0.6          1.6                6.4                 5.0   \n",
       "96   97             6.1          0.5                9.2                 4.8   \n",
       "97   98             2.0          2.8                5.2                 5.0   \n",
       "98   99             3.1          2.2                6.7                 6.8   \n",
       "99  100             2.5          1.8                9.0                 5.0   \n",
       "\n",
       "    Service  Salesforce Image  Product Quality  Satisfaction Level  Firm size  \\\n",
       "0       2.4               2.3              5.2                 4.2          0   \n",
       "1       2.5               4.0              8.4                 4.3          1   \n",
       "2       4.3               2.7              8.2                 5.2          1   \n",
       "3       1.8               2.3              7.8                 3.9          1   \n",
       "4       3.4               4.6              4.5                 6.8          0   \n",
       "..      ...               ...              ...                 ...        ...   \n",
       "95      0.7               2.1              8.4                 3.4          1   \n",
       "96      3.3               2.8              7.1                 5.2          0   \n",
       "97      2.4               2.7              8.4                 3.7          1   \n",
       "98      2.6               2.9              8.4                 4.3          1   \n",
       "99      2.2               3.0              6.0                 4.4          0   \n",
       "\n",
       "    Usage level %  Industry type  Buying situation  \n",
       "0              32              1                 1  \n",
       "1              43              0                 1  \n",
       "2              48              1                 2  \n",
       "3              32              1                 1  \n",
       "4              58              1                 3  \n",
       "..            ...            ...               ...  \n",
       "95             25              1                 1  \n",
       "96             60              1                 3  \n",
       "97             38              0                 1  \n",
       "98             42              0                 1  \n",
       "99             33              0                 1  \n",
       "\n",
       "[100 rows x 13 columns]"
      ]
     },
     "execution_count": 21,
     "metadata": {},
     "output_type": "execute_result"
    }
   ],
   "source": [
    "hatco = pd.read_excel('https://myy.haaga-helia.fi/~menetelmat/Data-analytiikka/Teaching/hatco.xlsx')\n",
    "hatco"
   ]
  },
  {
   "cell_type": "code",
   "execution_count": 22,
   "id": "766500b7",
   "metadata": {},
   "outputs": [],
   "source": [
    "### Let's read the mental image variables into their own dataframe.\n",
    "\n",
    "hatco1 = hatco.loc[:, 'Delivery Speed':'Satisfaction Level']"
   ]
  },
  {
   "cell_type": "code",
   "execution_count": 23,
   "id": "a8c93ab7",
   "metadata": {},
   "outputs": [
    {
     "data": {
      "text/html": [
       "<div>\n",
       "<style scoped>\n",
       "    .dataframe tbody tr th:only-of-type {\n",
       "        vertical-align: middle;\n",
       "    }\n",
       "\n",
       "    .dataframe tbody tr th {\n",
       "        vertical-align: top;\n",
       "    }\n",
       "\n",
       "    .dataframe thead th {\n",
       "        text-align: right;\n",
       "    }\n",
       "</style>\n",
       "<table border=\"1\" class=\"dataframe\">\n",
       "  <thead>\n",
       "    <tr style=\"text-align: right;\">\n",
       "      <th></th>\n",
       "      <th>Delivery Speed</th>\n",
       "      <th>Price Level</th>\n",
       "      <th>Price Flexibility</th>\n",
       "      <th>Manufacturer Image</th>\n",
       "      <th>Service</th>\n",
       "      <th>Salesforce Image</th>\n",
       "      <th>Product Quality</th>\n",
       "      <th>Satisfaction Level</th>\n",
       "    </tr>\n",
       "  </thead>\n",
       "  <tbody>\n",
       "    <tr>\n",
       "      <th>count</th>\n",
       "      <td>100.000000</td>\n",
       "      <td>100.000000</td>\n",
       "      <td>100.000000</td>\n",
       "      <td>100.000000</td>\n",
       "      <td>100.000000</td>\n",
       "      <td>100.000000</td>\n",
       "      <td>100.000000</td>\n",
       "      <td>100.000000</td>\n",
       "    </tr>\n",
       "    <tr>\n",
       "      <th>mean</th>\n",
       "      <td>3.515000</td>\n",
       "      <td>2.364000</td>\n",
       "      <td>7.894000</td>\n",
       "      <td>5.248000</td>\n",
       "      <td>2.916000</td>\n",
       "      <td>2.665000</td>\n",
       "      <td>6.971000</td>\n",
       "      <td>4.771000</td>\n",
       "    </tr>\n",
       "    <tr>\n",
       "      <th>std</th>\n",
       "      <td>1.320726</td>\n",
       "      <td>1.195659</td>\n",
       "      <td>1.386502</td>\n",
       "      <td>1.131414</td>\n",
       "      <td>0.751258</td>\n",
       "      <td>0.770855</td>\n",
       "      <td>1.585241</td>\n",
       "      <td>0.855558</td>\n",
       "    </tr>\n",
       "    <tr>\n",
       "      <th>min</th>\n",
       "      <td>0.000000</td>\n",
       "      <td>0.200000</td>\n",
       "      <td>5.000000</td>\n",
       "      <td>2.500000</td>\n",
       "      <td>0.700000</td>\n",
       "      <td>1.100000</td>\n",
       "      <td>3.700000</td>\n",
       "      <td>3.200000</td>\n",
       "    </tr>\n",
       "    <tr>\n",
       "      <th>25%</th>\n",
       "      <td>2.500000</td>\n",
       "      <td>1.475000</td>\n",
       "      <td>6.700000</td>\n",
       "      <td>4.575000</td>\n",
       "      <td>2.400000</td>\n",
       "      <td>2.200000</td>\n",
       "      <td>5.800000</td>\n",
       "      <td>4.100000</td>\n",
       "    </tr>\n",
       "    <tr>\n",
       "      <th>50%</th>\n",
       "      <td>3.400000</td>\n",
       "      <td>2.150000</td>\n",
       "      <td>8.050000</td>\n",
       "      <td>5.000000</td>\n",
       "      <td>3.000000</td>\n",
       "      <td>2.600000</td>\n",
       "      <td>7.150000</td>\n",
       "      <td>4.850000</td>\n",
       "    </tr>\n",
       "    <tr>\n",
       "      <th>75%</th>\n",
       "      <td>4.600000</td>\n",
       "      <td>3.225000</td>\n",
       "      <td>9.100000</td>\n",
       "      <td>6.000000</td>\n",
       "      <td>3.425000</td>\n",
       "      <td>3.000000</td>\n",
       "      <td>8.325000</td>\n",
       "      <td>5.400000</td>\n",
       "    </tr>\n",
       "    <tr>\n",
       "      <th>max</th>\n",
       "      <td>6.100000</td>\n",
       "      <td>5.400000</td>\n",
       "      <td>10.000000</td>\n",
       "      <td>8.200000</td>\n",
       "      <td>4.600000</td>\n",
       "      <td>4.600000</td>\n",
       "      <td>10.000000</td>\n",
       "      <td>6.800000</td>\n",
       "    </tr>\n",
       "  </tbody>\n",
       "</table>\n",
       "</div>"
      ],
      "text/plain": [
       "       Delivery Speed  Price Level  Price Flexibility  Manufacturer Image  \\\n",
       "count      100.000000   100.000000         100.000000          100.000000   \n",
       "mean         3.515000     2.364000           7.894000            5.248000   \n",
       "std          1.320726     1.195659           1.386502            1.131414   \n",
       "min          0.000000     0.200000           5.000000            2.500000   \n",
       "25%          2.500000     1.475000           6.700000            4.575000   \n",
       "50%          3.400000     2.150000           8.050000            5.000000   \n",
       "75%          4.600000     3.225000           9.100000            6.000000   \n",
       "max          6.100000     5.400000          10.000000            8.200000   \n",
       "\n",
       "          Service  Salesforce Image  Product Quality  Satisfaction Level  \n",
       "count  100.000000        100.000000       100.000000          100.000000  \n",
       "mean     2.916000          2.665000         6.971000            4.771000  \n",
       "std      0.751258          0.770855         1.585241            0.855558  \n",
       "min      0.700000          1.100000         3.700000            3.200000  \n",
       "25%      2.400000          2.200000         5.800000            4.100000  \n",
       "50%      3.000000          2.600000         7.150000            4.850000  \n",
       "75%      3.425000          3.000000         8.325000            5.400000  \n",
       "max      4.600000          4.600000        10.000000            6.800000  "
      ]
     },
     "execution_count": 23,
     "metadata": {},
     "output_type": "execute_result"
    }
   ],
   "source": [
    "### Calculate statistical key figures for these image variables.\n",
    "\n",
    "hatco1.describe()"
   ]
  },
  {
   "cell_type": "code",
   "execution_count": 24,
   "id": "a2824c53",
   "metadata": {},
   "outputs": [
    {
     "data": {
      "text/plain": [
       "(0.0, 10.0)"
      ]
     },
     "execution_count": 24,
     "metadata": {},
     "output_type": "execute_result"
    },
    {
     "data": {
      "image/png": "[encoded data removed]",
      "text/plain": [
       "<Figure size 640x480 with 1 Axes>"
      ]
     },
     "metadata": {},
     "output_type": "display_data"
    }
   ],
   "source": [
    "### List mental image variables in order according to the means.\n",
    "\n",
    "list2 = hatco1.mean().sort_values().index\n",
    "\n",
    "### Draw a figure of means and associated margins of error.\n",
    "\n",
    "sns.barplot(data=hatco1[list2], orient='h')\n",
    "\n",
    "### Polishing the horizontal axis\n",
    "\n",
    "plt.xlabel('mental image (0 = bad, 10 = excellent)')\n",
    "plt.xlim(0, 10)"
   ]
  },
  {
   "cell_type": "code",
   "execution_count": 25,
   "id": "f2c5d605",
   "metadata": {},
   "outputs": [
    {
     "data": {
      "text/plain": [
       "(0.0, 10.0)"
      ]
     },
     "execution_count": 25,
     "metadata": {},
     "output_type": "execute_result"
    },
    {
     "data": {
      "image/png": "[encoded data removed]",
      "text/plain": [
       "<Figure size 640x480 with 1 Axes>"
      ]
     },
     "metadata": {},
     "output_type": "display_data"
    }
   ],
   "source": [
    "### Boxplot of image variables\n",
    "\n",
    "sns.boxplot(data=hatco1[list2], orient='h')\n",
    "\n",
    "### Polishing the horizontal axis\n",
    "\n",
    "plt.xlabel('mental image (0 = bad, 10 = excellent)')\n",
    "plt.xlim(0, 10)"
   ]
  },
  {
   "cell_type": "markdown",
   "id": "ef4c8e15",
   "metadata": {},
   "source": [
    "## Colors and sizes of charts"
   ]
  },
  {
   "cell_type": "markdown",
   "id": "9fc5e486",
   "metadata": {},
   "source": [
    "When creating a chart, you can specify a color as the value of the __color__ parameter (this also works for seaborn charts). For example, in the first chart of this notebook, the bars are colored green as follows: $$\\textrm{df1['f'].plot.bar(width=0.8, rot=0, color='green')}.$$ The edge color can be determined using the __edgecolor__ parameter."
   ]
  },
  {
   "cell_type": "markdown",
   "id": "d4071d98",
   "metadata": {},
   "source": [
    "List of named colors: https://matplotlib.org/stable/gallery/color/named_colors.html"
   ]
  },
  {
   "cell_type": "markdown",
   "id": "b924c147",
   "metadata": {},
   "source": [
    "When creating the chart, you can define the color map to be used directly for charts made from the dataframe with the __cmap__ parameter and for seaborn charts with the __palette__ parameter. For example, in the last chart of this notebook, the color chart can be changed to Greens: $$\\textrm{sns.boxplot(data=hatco1[list2], orient='h', palette='Greens')}$$"
   ]
  },
  {
   "cell_type": "markdown",
   "id": "99c543c3",
   "metadata": {},
   "source": [
    "Choosing Colormaps: https://matplotlib.org/stable/tutorials/colors/colormaps.html"
   ]
  },
  {
   "cell_type": "markdown",
   "id": "3ee68426",
   "metadata": {},
   "source": [
    "The size of the chart made directly from the dataframe can be specified as the value of the __figsize__ parameter. For example, \n",
    "$$\\textrm{df1['f'].plot.bar(width=0.8, rot=0, figsize=(10, 6))}.$$"
   ]
  },
  {
   "cell_type": "markdown",
   "id": "b1327cd7",
   "metadata": {},
   "source": [
    "The size of a Seaborn chart can be determined by creating a figure surrounding the chart before creating the chart. For example,\n",
    "$$\\textrm{plt.figure(figsize=(10,6))}.$$"
   ]
  },
  {
   "cell_type": "markdown",
   "id": "df481c82",
   "metadata": {},
   "source": [
    "Source and origin of inspiration:<br /> \n",
    "Aki Taanila: Data-analytiikka Pythonilla: <a href=\"https://tilastoapu.wordpress.com/python/\">https://tilastoapu.wordpress.com/python/</a>"
   ]
  },
  {
   "cell_type": "code",
   "execution_count": 26,
   "id": "2578ac0d",
   "metadata": {},
   "outputs": [
    {
     "name": "stdout",
     "output_type": "stream",
     "text": [
      "Last modified 2023-04-06 20:14 by Juha Nurmonen\n"
     ]
    }
   ],
   "source": [
    "import datetime\n",
    "print(f'Last modified {datetime.datetime.now():%Y-%m-%d %H:%M} by Juha Nurmonen')"
   ]
  }
 ],
 "metadata": {
  "kernelspec": {
   "display_name": "Python 3 (ipykernel)",
   "language": "python",
   "name": "python3"
  },
  "language_info": {
   "codemirror_mode": {
    "name": "ipython",
    "version": 3
   },
   "file_extension": ".py",
   "mimetype": "text/x-python",
   "name": "python",
   "nbconvert_exporter": "python",
   "pygments_lexer": "ipython3",
   "version": "3.9.16"
  }
 },
 "nbformat": 4,
 "nbformat_minor": 5
}
