{
 "cells": [
  {
   "cell_type": "markdown",
   "id": "4382e754",
   "metadata": {},
   "source": [
    "# Frequency distribution"
   ]
  },
  {
   "cell_type": "markdown",
   "id": "57b00314",
   "metadata": {},
   "source": [
    "Frequency distribution of a categorical variable cab be produced as frequency table or as bar chart."
   ]
  },
  {
   "cell_type": "markdown",
   "id": "b6be1524",
   "metadata": {},
   "source": [
    "Frequency table is a table which contains the number of occurrencies of variables (i.e., frequencies) and percentages of occurrencies."
   ]
  },
  {
   "cell_type": "markdown",
   "id": "c7981dde",
   "metadata": {},
   "source": [
    "In the following one possible way to formulate a frequancy table and bar chart is given."
   ]
  },
  {
   "cell_type": "code",
   "execution_count": 1,
   "id": "f328a1bc",
   "metadata": {},
   "outputs": [],
   "source": [
    "### First, import necessary libraries.\n",
    "\n",
    "import pandas as pd\n",
    "import matplotlib.pyplot as plt\n",
    "\n",
    "### Style has effect on the layout of graphics.\n",
    "### Styles available can be listed using the command plt.style.available\n",
    "\n",
    "plt.style.use('seaborn-whitegrid')"
   ]
  },
  {
   "cell_type": "code",
   "execution_count": 2,
   "id": "8fe5c62c",
   "metadata": {},
   "outputs": [
    {
     "data": {
      "text/html": [
       "<div>\n",
       "<style scoped>\n",
       "    .dataframe tbody tr th:only-of-type {\n",
       "        vertical-align: middle;\n",
       "    }\n",
       "\n",
       "    .dataframe tbody tr th {\n",
       "        vertical-align: top;\n",
       "    }\n",
       "\n",
       "    .dataframe thead th {\n",
       "        text-align: right;\n",
       "    }\n",
       "</style>\n",
       "<table border=\"1\" class=\"dataframe\">\n",
       "  <thead>\n",
       "    <tr style=\"text-align: right;\">\n",
       "      <th></th>\n",
       "      <th>number</th>\n",
       "      <th>sex</th>\n",
       "      <th>age</th>\n",
       "      <th>family</th>\n",
       "      <th>education</th>\n",
       "      <th>empl_years</th>\n",
       "      <th>salary</th>\n",
       "      <th>management</th>\n",
       "      <th>colleagues</th>\n",
       "      <th>environment</th>\n",
       "      <th>salary_level</th>\n",
       "      <th>duties</th>\n",
       "      <th>occu_health</th>\n",
       "      <th>timeshare</th>\n",
       "      <th>gym</th>\n",
       "      <th>massage</th>\n",
       "    </tr>\n",
       "  </thead>\n",
       "  <tbody>\n",
       "    <tr>\n",
       "      <th>0</th>\n",
       "      <td>1</td>\n",
       "      <td>1</td>\n",
       "      <td>38</td>\n",
       "      <td>1</td>\n",
       "      <td>1.0</td>\n",
       "      <td>22.0</td>\n",
       "      <td>3587</td>\n",
       "      <td>3</td>\n",
       "      <td>3.0</td>\n",
       "      <td>3</td>\n",
       "      <td>3</td>\n",
       "      <td>3</td>\n",
       "      <td>NaN</td>\n",
       "      <td>NaN</td>\n",
       "      <td>NaN</td>\n",
       "      <td>NaN</td>\n",
       "    </tr>\n",
       "    <tr>\n",
       "      <th>1</th>\n",
       "      <td>2</td>\n",
       "      <td>1</td>\n",
       "      <td>29</td>\n",
       "      <td>2</td>\n",
       "      <td>2.0</td>\n",
       "      <td>10.0</td>\n",
       "      <td>2963</td>\n",
       "      <td>1</td>\n",
       "      <td>5.0</td>\n",
       "      <td>2</td>\n",
       "      <td>1</td>\n",
       "      <td>3</td>\n",
       "      <td>NaN</td>\n",
       "      <td>NaN</td>\n",
       "      <td>NaN</td>\n",
       "      <td>NaN</td>\n",
       "    </tr>\n",
       "    <tr>\n",
       "      <th>2</th>\n",
       "      <td>3</td>\n",
       "      <td>1</td>\n",
       "      <td>30</td>\n",
       "      <td>1</td>\n",
       "      <td>1.0</td>\n",
       "      <td>7.0</td>\n",
       "      <td>1989</td>\n",
       "      <td>3</td>\n",
       "      <td>4.0</td>\n",
       "      <td>1</td>\n",
       "      <td>1</td>\n",
       "      <td>3</td>\n",
       "      <td>1.0</td>\n",
       "      <td>NaN</td>\n",
       "      <td>NaN</td>\n",
       "      <td>NaN</td>\n",
       "    </tr>\n",
       "    <tr>\n",
       "      <th>3</th>\n",
       "      <td>4</td>\n",
       "      <td>1</td>\n",
       "      <td>36</td>\n",
       "      <td>2</td>\n",
       "      <td>1.0</td>\n",
       "      <td>14.0</td>\n",
       "      <td>2144</td>\n",
       "      <td>3</td>\n",
       "      <td>3.0</td>\n",
       "      <td>3</td>\n",
       "      <td>3</td>\n",
       "      <td>3</td>\n",
       "      <td>1.0</td>\n",
       "      <td>NaN</td>\n",
       "      <td>NaN</td>\n",
       "      <td>NaN</td>\n",
       "    </tr>\n",
       "    <tr>\n",
       "      <th>4</th>\n",
       "      <td>5</td>\n",
       "      <td>1</td>\n",
       "      <td>24</td>\n",
       "      <td>1</td>\n",
       "      <td>2.0</td>\n",
       "      <td>4.0</td>\n",
       "      <td>2183</td>\n",
       "      <td>2</td>\n",
       "      <td>3.0</td>\n",
       "      <td>2</td>\n",
       "      <td>1</td>\n",
       "      <td>2</td>\n",
       "      <td>1.0</td>\n",
       "      <td>NaN</td>\n",
       "      <td>NaN</td>\n",
       "      <td>NaN</td>\n",
       "    </tr>\n",
       "  </tbody>\n",
       "</table>\n",
       "</div>"
      ],
      "text/plain": [
       "   number  sex  age  family  education  empl_years  salary  management  \\\n",
       "0       1    1   38       1        1.0        22.0    3587           3   \n",
       "1       2    1   29       2        2.0        10.0    2963           1   \n",
       "2       3    1   30       1        1.0         7.0    1989           3   \n",
       "3       4    1   36       2        1.0        14.0    2144           3   \n",
       "4       5    1   24       1        2.0         4.0    2183           2   \n",
       "\n",
       "   colleagues  environment  salary_level  duties  occu_health  timeshare  gym  \\\n",
       "0         3.0            3             3       3          NaN        NaN  NaN   \n",
       "1         5.0            2             1       3          NaN        NaN  NaN   \n",
       "2         4.0            1             1       3          1.0        NaN  NaN   \n",
       "3         3.0            3             3       3          1.0        NaN  NaN   \n",
       "4         3.0            2             1       2          1.0        NaN  NaN   \n",
       "\n",
       "   massage  \n",
       "0      NaN  \n",
       "1      NaN  \n",
       "2      NaN  \n",
       "3      NaN  \n",
       "4      NaN  "
      ]
     },
     "execution_count": 2,
     "metadata": {},
     "output_type": "execute_result"
    }
   ],
   "source": [
    "### Next we open the data\n",
    "\n",
    "df = pd.read_excel('http://myy.haaga-helia.fi/~menetelmat/Data-analytiikka/Teaching/data1_en.xlsx')\n",
    "\n",
    "### And check it looks proper.\n",
    "\n",
    "df.head()"
   ]
  },
  {
   "cell_type": "code",
   "execution_count": 3,
   "id": "3764207e",
   "metadata": {},
   "outputs": [],
   "source": [
    "### We now change number values [1, 2, 3, 4] of education to a list of corresponding textual counterparts.\n",
    "\n",
    "\n",
    "education =['Comprehensive school level', 'Upper secondary education', 'Academic degree', 'Higher academic degree']\n",
    "\n",
    "### This finishes our preparations."
   ]
  },
  {
   "cell_type": "code",
   "execution_count": 4,
   "id": "92ff592f",
   "metadata": {},
   "outputs": [
    {
     "data": {
      "text/html": [
       "<div>\n",
       "<style scoped>\n",
       "    .dataframe tbody tr th:only-of-type {\n",
       "        vertical-align: middle;\n",
       "    }\n",
       "\n",
       "    .dataframe tbody tr th {\n",
       "        vertical-align: top;\n",
       "    }\n",
       "\n",
       "    .dataframe thead th {\n",
       "        text-align: right;\n",
       "    }\n",
       "</style>\n",
       "<table border=\"1\" class=\"dataframe\">\n",
       "  <thead>\n",
       "    <tr style=\"text-align: right;\">\n",
       "      <th>col_0</th>\n",
       "      <th>Total</th>\n",
       "    </tr>\n",
       "    <tr>\n",
       "      <th>education</th>\n",
       "      <th></th>\n",
       "    </tr>\n",
       "  </thead>\n",
       "  <tbody>\n",
       "    <tr>\n",
       "      <th>1.0</th>\n",
       "      <td>27</td>\n",
       "    </tr>\n",
       "    <tr>\n",
       "      <th>2.0</th>\n",
       "      <td>30</td>\n",
       "    </tr>\n",
       "    <tr>\n",
       "      <th>3.0</th>\n",
       "      <td>22</td>\n",
       "    </tr>\n",
       "    <tr>\n",
       "      <th>4.0</th>\n",
       "      <td>2</td>\n",
       "    </tr>\n",
       "  </tbody>\n",
       "</table>\n",
       "</div>"
      ],
      "text/plain": [
       "col_0      Total\n",
       "education       \n",
       "1.0           27\n",
       "2.0           30\n",
       "3.0           22\n",
       "4.0            2"
      ]
     },
     "execution_count": 4,
     "metadata": {},
     "output_type": "execute_result"
    }
   ],
   "source": [
    "### Number of occurrencies using the crosstab funtion.\n",
    "\n",
    "df1 = pd.crosstab(df['education'], 'Total')\n",
    "\n",
    "df1"
   ]
  },
  {
   "cell_type": "code",
   "execution_count": 5,
   "id": "58f518cc",
   "metadata": {},
   "outputs": [
    {
     "data": {
      "text/html": [
       "<style  type=\"text/css\" >\n",
       "</style><table id=\"T_2da8b_\" ><thead>    <tr>        <th class=\"index_name level0\" ></th>        <th class=\"col_heading level0 col0\" >Total</th>        <th class=\"col_heading level0 col1\" >%</th>    </tr></thead><tbody>\n",
       "                <tr>\n",
       "                        <th id=\"T_2da8b_level0_row0\" class=\"row_heading level0 row0\" >Comprehensive school level</th>\n",
       "                        <td id=\"T_2da8b_row0_col0\" class=\"data row0 col0\" >27</td>\n",
       "                        <td id=\"T_2da8b_row0_col1\" class=\"data row0 col1\" >33.3</td>\n",
       "            </tr>\n",
       "            <tr>\n",
       "                        <th id=\"T_2da8b_level0_row1\" class=\"row_heading level0 row1\" >Upper secondary education</th>\n",
       "                        <td id=\"T_2da8b_row1_col0\" class=\"data row1 col0\" >30</td>\n",
       "                        <td id=\"T_2da8b_row1_col1\" class=\"data row1 col1\" >37.0</td>\n",
       "            </tr>\n",
       "            <tr>\n",
       "                        <th id=\"T_2da8b_level0_row2\" class=\"row_heading level0 row2\" >Academic degree</th>\n",
       "                        <td id=\"T_2da8b_row2_col0\" class=\"data row2 col0\" >22</td>\n",
       "                        <td id=\"T_2da8b_row2_col1\" class=\"data row2 col1\" >27.2</td>\n",
       "            </tr>\n",
       "            <tr>\n",
       "                        <th id=\"T_2da8b_level0_row3\" class=\"row_heading level0 row3\" >Higher academic degree</th>\n",
       "                        <td id=\"T_2da8b_row3_col0\" class=\"data row3 col0\" >2</td>\n",
       "                        <td id=\"T_2da8b_row3_col1\" class=\"data row3 col1\" >2.5</td>\n",
       "            </tr>\n",
       "            <tr>\n",
       "                        <th id=\"T_2da8b_level0_row4\" class=\"row_heading level0 row4\" >Total</th>\n",
       "                        <td id=\"T_2da8b_row4_col0\" class=\"data row4 col0\" >81</td>\n",
       "                        <td id=\"T_2da8b_row4_col1\" class=\"data row4 col1\" >100.0</td>\n",
       "            </tr>\n",
       "    </tbody></table>"
      ],
      "text/plain": [
       "<pandas.io.formats.style.Styler at 0x12ff23e7748>"
      ]
     },
     "execution_count": 5,
     "metadata": {},
     "output_type": "execute_result"
    }
   ],
   "source": [
    "### Although basically correct, we want to make changes so that the table will become clear and readable.\n",
    "\n",
    "### First remove the misleading heading.\n",
    "\n",
    "df1.columns.name = ''\n",
    "\n",
    "### Use textual values of education instead of numbers.\n",
    "\n",
    "df1.index = education\n",
    "\n",
    "### Add percentages\n",
    "\n",
    "n = df1['Total'].sum()\n",
    "df1['%'] = (df1['Total'] / n) * 100\n",
    "\n",
    "### Add row for total values of columns\n",
    "\n",
    "df1.loc['Total'] = df1.sum()\n",
    "\n",
    "### Finalize the layout including the number of decimals.\n",
    "\n",
    "df1.style.format({'Total' : '{:.0f}', '%' : '{:.1f}' })"
   ]
  },
  {
   "cell_type": "code",
   "execution_count": 6,
   "id": "4aa59882",
   "metadata": {},
   "outputs": [
    {
     "data": {
      "image/png": "[encoded data removed]",
      "text/plain": [
       "<Figure size 432x288 with 1 Axes>"
      ]
     },
     "metadata": {},
     "output_type": "display_data"
    }
   ],
   "source": [
    "### Now let's move to the graphics.\n",
    "\n",
    "### We create a bar chart from number values of the column for total. The total row is, however, ignored.\n",
    "\n",
    "df1.drop('Total')['Total'].plot.barh()\n",
    "\n",
    "### Add axis title for the horisontal axis. The value for n is calculated in the previous cell.\n",
    "\n",
    "plt.xlabel('Total, n=' + str(n))\n",
    "\n",
    "### The style seaborn-whitegrid contains both horisontal and vertical gridlines.\n",
    "### Try it yourself!\n",
    "\n",
    "### In this example we overturn the horisontal gridlines, and so only the vertical ones remain.\n",
    "\n",
    "plt.grid(axis = 'y')"
   ]
  },
  {
   "cell_type": "code",
   "execution_count": 7,
   "id": "a31dc772",
   "metadata": {},
   "outputs": [
    {
     "data": {
      "image/png": "[encoded data removed]",
      "text/plain": [
       "<Figure size 432x288 with 1 Axes>"
      ]
     },
     "metadata": {},
     "output_type": "display_data"
    }
   ],
   "source": [
    "### Next we create a bar chart of percentages. Again, the Total row is ignored.\n",
    "\n",
    "df1.drop('Total')['%'].plot.barh()\n",
    "\n",
    "### Add axis title.\n",
    "\n",
    "plt.xlabel('Percentages of responses, n=' + str(n))\n",
    "\n",
    "### Only vertical gridlines are shown.\n",
    "\n",
    "plt.grid(axis = 'y')"
   ]
  },
  {
   "cell_type": "code",
   "execution_count": 8,
   "id": "bec0d02f",
   "metadata": {},
   "outputs": [],
   "source": [
    "### We also can save figures created. Here bounding box is added, too.\n",
    "\n",
    "### plt.savefig('percentage-chart.png', bbox_inches = 'tight')"
   ]
  },
  {
   "cell_type": "markdown",
   "id": "b2416ef7",
   "metadata": {},
   "source": [
    "### Further information\n",
    "\n",
    "<a href=\"https://pandas.pydata.org/docs/reference/api/pandas.crosstab.html\">https://pandas.pydata.org/docs/reference/api/pandas.crosstab.html</a>"
   ]
  },
  {
   "cell_type": "markdown",
   "id": "d1351b33",
   "metadata": {},
   "source": [
    "Source and origin of inspiration:<br /> \n",
    "Aki Taanila: Data-analytiikka Pythonilla: <a href=\"https://tilastoapu.wordpress.com/python/\">https://tilastoapu.wordpress.com/python/</a>"
   ]
  }
 ],
 "metadata": {
  "kernelspec": {
   "display_name": "Python 3",
   "language": "python",
   "name": "python3"
  },
  "language_info": {
   "codemirror_mode": {
    "name": "ipython",
    "version": 3
   },
   "file_extension": ".py",
   "mimetype": "text/x-python",
   "name": "python",
   "nbconvert_exporter": "python",
   "pygments_lexer": "ipython3",
   "version": "3.7.10"
  }
 },
 "nbformat": 4,
 "nbformat_minor": 5
}
